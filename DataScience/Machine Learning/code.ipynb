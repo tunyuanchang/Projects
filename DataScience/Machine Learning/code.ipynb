{
  "nbformat": 4,
  "nbformat_minor": 0,
  "metadata": {
    "colab": {
      "provenance": []
    },
    "kernelspec": {
      "name": "python3",
      "display_name": "Python 3"
    },
    "language_info": {
      "name": "python"
    }
  },
  "cells": [
    {
      "cell_type": "code",
      "source": [
        "from google.colab import drive\n",
        "import os\n",
        "\n",
        "drive.mount('/content/drive')\n",
        "\n",
        "os.chdir('/content/drive/MyDrive/11120/DS/hw/hw2')"
      ],
      "metadata": {
        "id": "OXC1Q1vdUZ_i",
        "colab": {
          "base_uri": "https://localhost:8080/"
        },
        "outputId": "94d06dbb-be9e-491f-a57f-e40a04990c25"
      },
      "execution_count": null,
      "outputs": [
        {
          "output_type": "stream",
          "name": "stdout",
          "text": [
            "Mounted at /content/drive\n"
          ]
        }
      ]
    },
    {
      "cell_type": "code",
      "source": [
        "import pandas as pd\n",
        "import numpy as np\n",
        "from sklearn.model_selection import train_test_split\n",
        "from sklearn.metrics import accuracy_score, f1_score\n",
        "\n",
        "df = pd.read_csv('train.csv')\n",
        "df_test = pd.read_csv('test.csv')\n",
        "\n",
        "df_test['Weather'] = np.zeros((len(df_test),))\n",
        "train_end_idx = len(df)\n",
        "df = pd.concat([df, df_test], sort=False)\n",
        "\n",
        "#encode categories\n",
        "from sklearn.preprocessing import LabelEncoder\n",
        "df['Loc'] = LabelEncoder().fit_transform(df['Loc'])\n",
        "df['WindDir'] = LabelEncoder().fit_transform(df['WindDir'])\n",
        "\n",
        "df = df.drop(columns = [col for col in df.columns if df[col].dtype == object])\n",
        "\n",
        "#impute missing data\n",
        "from sklearn.experimental import enable_iterative_imputer\n",
        "from sklearn.impute import SimpleImputer, KNNImputer, IterativeImputer\n",
        "imp = IterativeImputer(missing_values=np.nan, initial_strategy='median')\n",
        "imputed_data = imp.fit_transform(df.values)\n",
        "df_impute = pd.DataFrame(imputed_data)\n",
        "df_impute.columns = df.columns\n",
        "\n",
        "X = df_impute.drop(columns = ['Weather']).values[:train_end_idx, :]\n",
        "y = df_impute['Weather'].values[:train_end_idx]\n",
        "X_ans = df_impute.drop(columns = ['Weather']).values[train_end_idx:, :]"
      ],
      "metadata": {
        "id": "pK2-9LAVQ-CO",
        "colab": {
          "base_uri": "https://localhost:8080/"
        },
        "outputId": "d6e92d88-7b01-4f3d-9ec6-46372c28d56d"
      },
      "execution_count": null,
      "outputs": [
        {
          "output_type": "stream",
          "name": "stderr",
          "text": [
            "/usr/local/lib/python3.9/dist-packages/sklearn/impute/_iterative.py:785: ConvergenceWarning: [IterativeImputer] Early stopping criterion not reached.\n",
            "  warnings.warn(\n"
          ]
        }
      ]
    },
    {
      "cell_type": "code",
      "source": [
        "X_train0, X_test, y_train0, y_test = train_test_split(X, y, test_size=0.001)\n",
        "\n",
        "#oversampling\n",
        "from imblearn.under_sampling import RandomUnderSampler\n",
        "from imblearn.over_sampling import RandomOverSampler\n",
        "X_train, y_train = RandomOverSampler(random_state=0).fit_resample(X_train0, y_train0)\n",
        "\n",
        "from imblearn.over_sampling import SMOTE, ADASYN\n",
        "#X_train, y_train = ADASYN(random_state=0).fit_resample(X_train0, y_train0)\n",
        "\n",
        "from imblearn.combine import SMOTETomek, SMOTEENN\n",
        "#X_train, y_train = SMOTETomek(random_state=0).fit_resample(X_train0, y_train0)"
      ],
      "metadata": {
        "id": "4R56L2NBQ-Q_"
      },
      "execution_count": null,
      "outputs": []
    },
    {
      "cell_type": "code",
      "source": [
        "#random forest\n",
        "from sklearn.ensemble import RandomForestClassifier\n",
        "cf = RandomForestClassifier(n_estimators=101, max_depth=17, max_samples=0.5)\n",
        "\n",
        "from imblearn.ensemble import BalancedRandomForestClassifier\n",
        "#cf = BalancedRandomForestClassifier(n_estimators=101, max_depth=17, max_samples=0.5)\n",
        "model = cf.fit(X_train, y_train)\n",
        "\n",
        "#prediction\n",
        "y_pred = model.predict(X_train)\n",
        "print(f'accuracy: {accuracy_score(y_train, y_pred):.6f}')\n",
        "print(f'f1_score: {f1_score(y_train, y_pred):.6f}')\n",
        "print('-'*6)\n",
        "y_pred = model.predict(X_train0)\n",
        "print(f'accuracy: {accuracy_score(y_train0, y_pred):.6f}')\n",
        "print(f'f1_score: {f1_score(y_train0, y_pred):.6f}')\n",
        "print('-'*6)\n",
        "y_pred = model.predict(X_test)\n",
        "print(f'accuracy: {accuracy_score(y_test, y_pred):.6f}')\n",
        "print(f'f1_score: {f1_score(y_test, y_pred):.6f}')\n",
        "\n",
        "ans_pred = model.predict(X_ans)\n",
        "df_sap = pd.DataFrame(ans_pred.astype(int), columns = ['Weather'])\n",
        "df_sap.to_csv('myAns.csv',  index_label = 'Id')"
      ],
      "metadata": {
        "id": "GoReu2y2TywS",
        "colab": {
          "base_uri": "https://localhost:8080/"
        },
        "outputId": "b9a04a4d-4337-4b4e-b5ed-9955c0b8dee5"
      },
      "execution_count": null,
      "outputs": [
        {
          "output_type": "stream",
          "name": "stdout",
          "text": [
            "accuracy: 0.983270\n",
            "f1_score: 0.983546\n",
            "------\n",
            "accuracy: 0.970047\n",
            "f1_score: 0.874955\n",
            "------\n",
            "accuracy: 1.000000\n",
            "f1_score: 0.000000\n"
          ]
        },
        {
          "output_type": "stream",
          "name": "stderr",
          "text": [
            "/usr/local/lib/python3.9/dist-packages/sklearn/metrics/_classification.py:1609: UndefinedMetricWarning: F-score is ill-defined and being set to 0.0 due to no true nor predicted samples. Use `zero_division` parameter to control this behavior.\n",
            "  _warn_prf(average, \"true nor predicted\", \"F-score is\", len(true_sum))\n"
          ]
        }
      ]
    },
    {
      "cell_type": "code",
      "source": [],
      "metadata": {
        "id": "5mWbQ0-Oniua"
      },
      "execution_count": null,
      "outputs": []
    }
  ]
}