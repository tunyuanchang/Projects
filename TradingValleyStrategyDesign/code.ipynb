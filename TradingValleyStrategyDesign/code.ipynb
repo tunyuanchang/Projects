{
  "nbformat": 4,
  "nbformat_minor": 0,
  "metadata": {
    "colab": {
      "provenance": [],
      "collapsed_sections": []
    },
    "kernelspec": {
      "name": "python3",
      "display_name": "Python 3"
    },
    "language_info": {
      "name": "python"
    }
  },
  "cells": [
    {
      "cell_type": "markdown",
      "source": [
        "## Reference\n",
        "[Growin API](https://honey-scraper-952.notion.site/Growin-Public-API-38decd3c089f40cdbadd5fb54bc4cd80)"
      ],
      "metadata": {
        "id": "Nlrg5YMAYCGi"
      }
    },
    {
      "cell_type": "markdown",
      "source": [
        "##Packages\n",
        "- yfinance (History stock price)\n",
        "- request (API)\n",
        "- pandas (Dataframe)\n",
        "- json (Json)\n",
        "- scikit-learn (Machine Learning)\n",
        "- numpy (standard deviation)\n",
        "- Matplotlib (Line Chart)\n"
      ],
      "metadata": {
        "id": "D6dBUywIt48M"
      }
    },
    {
      "cell_type": "code",
      "execution_count": 1,
      "metadata": {
        "id": "4JSeAU62hmtN",
        "colab": {
          "base_uri": "https://localhost:8080/"
        },
        "outputId": "dd1da59f-7f2e-401f-82a4-2e85d8c1cb36"
      },
      "outputs": [
        {
          "output_type": "stream",
          "name": "stdout",
          "text": [
            "Looking in indexes: https://pypi.org/simple, https://us-python.pkg.dev/colab-wheels/public/simple/\n",
            "Requirement already satisfied: yfinance in /usr/local/lib/python3.7/dist-packages (0.1.79)\n",
            "Requirement already satisfied: lxml>=4.5.1 in /usr/local/lib/python3.7/dist-packages (from yfinance) (4.9.1)\n",
            "Requirement already satisfied: numpy>=1.15 in /usr/local/lib/python3.7/dist-packages (from yfinance) (1.21.6)\n",
            "Requirement already satisfied: appdirs>=1.4.4 in /usr/local/lib/python3.7/dist-packages (from yfinance) (1.4.4)\n",
            "Requirement already satisfied: pandas>=0.24.0 in /usr/local/lib/python3.7/dist-packages (from yfinance) (1.3.5)\n",
            "Requirement already satisfied: requests>=2.26 in /usr/local/lib/python3.7/dist-packages (from yfinance) (2.28.1)\n",
            "Requirement already satisfied: multitasking>=0.0.7 in /usr/local/lib/python3.7/dist-packages (from yfinance) (0.0.11)\n",
            "Requirement already satisfied: python-dateutil>=2.7.3 in /usr/local/lib/python3.7/dist-packages (from pandas>=0.24.0->yfinance) (2.8.2)\n",
            "Requirement already satisfied: pytz>=2017.3 in /usr/local/lib/python3.7/dist-packages (from pandas>=0.24.0->yfinance) (2022.4)\n",
            "Requirement already satisfied: six>=1.5 in /usr/local/lib/python3.7/dist-packages (from python-dateutil>=2.7.3->pandas>=0.24.0->yfinance) (1.15.0)\n",
            "Requirement already satisfied: certifi>=2017.4.17 in /usr/local/lib/python3.7/dist-packages (from requests>=2.26->yfinance) (2022.9.24)\n",
            "Requirement already satisfied: urllib3<1.27,>=1.21.1 in /usr/local/lib/python3.7/dist-packages (from requests>=2.26->yfinance) (1.24.3)\n",
            "Requirement already satisfied: idna<4,>=2.5 in /usr/local/lib/python3.7/dist-packages (from requests>=2.26->yfinance) (2.10)\n",
            "Requirement already satisfied: charset-normalizer<3,>=2 in /usr/local/lib/python3.7/dist-packages (from requests>=2.26->yfinance) (2.1.1)\n"
          ]
        }
      ],
      "source": [
        "!pip install yfinance"
      ]
    },
    {
      "cell_type": "code",
      "source": [
        "!pip install scikit-learn"
      ],
      "metadata": {
        "id": "MW6l2OlgRzDF",
        "colab": {
          "base_uri": "https://localhost:8080/"
        },
        "outputId": "2e9cb466-7857-425b-f4e3-2bf3365e86b5"
      },
      "execution_count": 2,
      "outputs": [
        {
          "output_type": "stream",
          "name": "stdout",
          "text": [
            "Looking in indexes: https://pypi.org/simple, https://us-python.pkg.dev/colab-wheels/public/simple/\n",
            "Requirement already satisfied: scikit-learn in /usr/local/lib/python3.7/dist-packages (1.0.2)\n",
            "Requirement already satisfied: scipy>=1.1.0 in /usr/local/lib/python3.7/dist-packages (from scikit-learn) (1.7.3)\n",
            "Requirement already satisfied: joblib>=0.11 in /usr/local/lib/python3.7/dist-packages (from scikit-learn) (1.2.0)\n",
            "Requirement already satisfied: numpy>=1.14.6 in /usr/local/lib/python3.7/dist-packages (from scikit-learn) (1.21.6)\n",
            "Requirement already satisfied: threadpoolctl>=2.0.0 in /usr/local/lib/python3.7/dist-packages (from scikit-learn) (3.1.0)\n"
          ]
        }
      ]
    },
    {
      "cell_type": "code",
      "source": [
        "!pip install Matplotlib"
      ],
      "metadata": {
        "id": "6U4yy7AX3AiK",
        "colab": {
          "base_uri": "https://localhost:8080/"
        },
        "outputId": "d0177e67-e057-4c35-9b94-a0d7f9823887"
      },
      "execution_count": 3,
      "outputs": [
        {
          "output_type": "stream",
          "name": "stdout",
          "text": [
            "Looking in indexes: https://pypi.org/simple, https://us-python.pkg.dev/colab-wheels/public/simple/\n",
            "Requirement already satisfied: Matplotlib in /usr/local/lib/python3.7/dist-packages (3.2.2)\n",
            "Requirement already satisfied: kiwisolver>=1.0.1 in /usr/local/lib/python3.7/dist-packages (from Matplotlib) (1.4.4)\n",
            "Requirement already satisfied: cycler>=0.10 in /usr/local/lib/python3.7/dist-packages (from Matplotlib) (0.11.0)\n",
            "Requirement already satisfied: numpy>=1.11 in /usr/local/lib/python3.7/dist-packages (from Matplotlib) (1.21.6)\n",
            "Requirement already satisfied: pyparsing!=2.0.4,!=2.1.2,!=2.1.6,>=2.0.1 in /usr/local/lib/python3.7/dist-packages (from Matplotlib) (3.0.9)\n",
            "Requirement already satisfied: python-dateutil>=2.1 in /usr/local/lib/python3.7/dist-packages (from Matplotlib) (2.8.2)\n",
            "Requirement already satisfied: typing-extensions in /usr/local/lib/python3.7/dist-packages (from kiwisolver>=1.0.1->Matplotlib) (4.1.1)\n",
            "Requirement already satisfied: six>=1.5 in /usr/local/lib/python3.7/dist-packages (from python-dateutil>=2.1->Matplotlib) (1.15.0)\n"
          ]
        }
      ]
    },
    {
      "cell_type": "code",
      "source": [
        "!pip install numpy"
      ],
      "metadata": {
        "id": "AqbdGrmIpNsg",
        "colab": {
          "base_uri": "https://localhost:8080/"
        },
        "outputId": "a5aa736e-b20b-4d70-d6a0-d0b4d754f4a1"
      },
      "execution_count": 4,
      "outputs": [
        {
          "output_type": "stream",
          "name": "stdout",
          "text": [
            "Looking in indexes: https://pypi.org/simple, https://us-python.pkg.dev/colab-wheels/public/simple/\n",
            "Requirement already satisfied: numpy in /usr/local/lib/python3.7/dist-packages (1.21.6)\n"
          ]
        }
      ]
    },
    {
      "cell_type": "markdown",
      "source": [
        "##Implement"
      ],
      "metadata": {
        "id": "Q1s4toCyqbUt"
      }
    },
    {
      "cell_type": "markdown",
      "source": [
        "API"
      ],
      "metadata": {
        "id": "YcEnc_d14eJx"
      }
    },
    {
      "cell_type": "code",
      "source": [
        "import json\n",
        "import pandas as pd\n",
        "import requests\n",
        "\n",
        "start_end = ['2016-01-01', '2022-09-30']\n",
        "api_key = 'tv-ffb6c7b0-b70d-480f-b074-e3290cc29287'\n",
        "url_head = 'https://api.tradingvalley.com/public'\n",
        "api_url = {\n",
        "    'symbol_rating': lambda oriented, symbol: f'{url_head}/historical/rating/{oriented}/{symbol}?start_at={start_end[0]}&end_at={start_end[1]}',\n",
        "    'symbol_indicators': lambda oriented, symbol, indicator: f'{url_head}/historical/{oriented}/{symbol}/{indicator}?start_at={start_end[0]}&end_at={start_end[1]}',\n",
        "    'vix': f'{url_head}/historical/stock/vix?start_at={start_end[0]}&end_at={start_end[1]}'\n",
        "}\n",
        "company='KO'"
      ],
      "metadata": {
        "id": "eJRzJTnHEX9Z"
      },
      "execution_count": 5,
      "outputs": []
    },
    {
      "cell_type": "markdown",
      "source": [
        "History stock price"
      ],
      "metadata": {
        "id": "3zOqlifN4mRj"
      }
    },
    {
      "cell_type": "code",
      "source": [
        "import yfinance\n",
        "data = yfinance.download([company], start=start_end[0], end='2022-10-01')\n",
        "data['T'] = data['Close'] > data['Open']\n",
        "data['Q'] = (data['Close'] - data['Open']) / data['Open']\n",
        "quote = data[data.columns[[7]]].reset_index(drop=True)\n",
        "data = data[data.columns[[6]]].reset_index(drop=True)\n",
        "#data"
      ],
      "metadata": {
        "id": "2xJtONRqiSg9",
        "colab": {
          "base_uri": "https://localhost:8080/"
        },
        "outputId": "b9721d61-e538-4547-e3e0-4cbddc5d0db5"
      },
      "execution_count": 6,
      "outputs": [
        {
          "output_type": "stream",
          "name": "stdout",
          "text": [
            "\r[*********************100%***********************]  1 of 1 completed\n"
          ]
        }
      ]
    },
    {
      "cell_type": "markdown",
      "source": [
        "分析指標-五力評分中的趨勢(trend) 與 VIX 指數"
      ],
      "metadata": {
        "id": "qQYyBSDW4wC4"
      }
    },
    {
      "cell_type": "code",
      "source": [
        "session = requests.Session()\n",
        "session.headers.update({'X-API-KEY': api_key})\n",
        "\n",
        "url_trend = api_url['symbol_rating']('trend', company)\n",
        "print(f'call {url_trend}')\n",
        "response = session.get(url_trend)\n",
        "trend = pd.DataFrame(json.loads(response.text)['data'][::-1]).set_index('date', drop=True)\n",
        "trend['s1'] = trend['score'].shift(1, fill_value=0)\n",
        "trend['s2'] = trend['score'].shift(2, fill_value=0)\n",
        "\n",
        "url_vix = api_url['vix']\n",
        "print(f'call {url_vix}')\n",
        "response = session.get(url_vix)\n",
        "vix = pd.DataFrame(json.loads(response.text)['data'][::-1]).set_index('date', drop=True)\n",
        "\n",
        "url_st = api_url['symbol_indicators']('trend', 'AAPL', 'surfing-trend')\n",
        "print(f'call {url_st}')\n",
        "response = session.get(url_st)\n",
        "st = pd.DataFrame(json.loads(response.text)['data'][::-1]).set_index('date', drop=True)"
      ],
      "metadata": {
        "id": "9MVrH3yiEYaQ",
        "colab": {
          "base_uri": "https://localhost:8080/"
        },
        "outputId": "280386b9-7c08-4d8b-f475-fed5fd616566"
      },
      "execution_count": 7,
      "outputs": [
        {
          "output_type": "stream",
          "name": "stdout",
          "text": [
            "call https://api.tradingvalley.com/public/historical/rating/trend/KO?start_at=2016-01-01&end_at=2022-09-30\n",
            "call https://api.tradingvalley.com/public/historical/stock/vix?start_at=2016-01-01&end_at=2022-09-30\n",
            "call https://api.tradingvalley.com/public/historical/trend/AAPL/surfing-trend?start_at=2016-01-01&end_at=2022-09-30\n"
          ]
        }
      ]
    },
    {
      "cell_type": "markdown",
      "source": [
        "Combine"
      ],
      "metadata": {
        "id": "m8xPJLiu5Qfp"
      }
    },
    {
      "cell_type": "code",
      "source": [
        "df = pd.concat([vix, trend], join='inner', axis=1, sort=False).reset_index(drop=True)\n",
        "df = pd.concat([df, data], axis=1, sort=False)\n",
        "df.columns = ['VIX', 'S0', 'S1', 'S2', 'T']\n",
        "#df"
      ],
      "metadata": {
        "id": "9iR-pl9ZhwiA"
      },
      "execution_count": 8,
      "outputs": []
    },
    {
      "cell_type": "markdown",
      "source": [
        "Split data"
      ],
      "metadata": {
        "id": "kBdLE81M5RVR"
      }
    },
    {
      "cell_type": "code",
      "source": [
        "# Test size = 188 (start='2022-01-01', end='2022-09-30')\n",
        "X = df.drop(columns=['T']).values\n",
        "y = df['T'].values\n",
        "idx = len(y)-188\n",
        "X_train, y_train = X[:idx], y[:idx]\n",
        "X_test, y_test = X[idx:], y[idx:]\n",
        "q0 = quote.values[:idx]\n",
        "q1 = quote.values[idx:]"
      ],
      "metadata": {
        "id": "V59BENw8iOyp"
      },
      "execution_count": 9,
      "outputs": []
    },
    {
      "cell_type": "markdown",
      "source": [
        "Machine Learning Model (use support vector classifier) with evaluation by precision_score, recall_score, f1_score"
      ],
      "metadata": {
        "id": "oGyuiGZb5b5m"
      }
    },
    {
      "cell_type": "code",
      "source": [
        "from sklearn.pipeline import Pipeline\n",
        "from sklearn.svm import SVC\n",
        "from sklearn.preprocessing import StandardScaler\n",
        "\n",
        "pipe = Pipeline([('svc', SVC(kernel='linear', random_state=0))])\n",
        "model = pipe.fit(X_train, y_train)\n",
        "\n",
        "#prediction\n",
        "from sklearn.metrics import precision_score, recall_score, f1_score\n",
        "print('Train data: ')\n",
        "y_pred0 = model.predict(X_train)\n",
        "print(f'precision_score: {precision_score(y_train, y_pred0):.6f}')\n",
        "print(f'recall_score: {recall_score(y_train, y_pred0):.6f}')\n",
        "print(f'f1_score: {f1_score(y_train, y_pred0):.6f}')\n",
        "print('-'*30)\n",
        "print('Test data: ')\n",
        "y_pred1 = model.predict(X_test)\n",
        "print(f'precision_score: {precision_score(y_test, y_pred1):.6f}')\n",
        "print(f'recall_score: {recall_score(y_test, y_pred1):.6f}')\n",
        "print(f'f1_score: {f1_score(y_test, y_pred1):.6f}')"
      ],
      "metadata": {
        "id": "XCMktnconsKP",
        "colab": {
          "base_uri": "https://localhost:8080/"
        },
        "outputId": "dbe8322e-11e2-4ca3-e731-08785b056c31"
      },
      "execution_count": 10,
      "outputs": [
        {
          "output_type": "stream",
          "name": "stdout",
          "text": [
            "Train data: \n",
            "precision_score: 0.573869\n",
            "recall_score: 0.733933\n",
            "f1_score: 0.644106\n",
            "------------------------------\n",
            "Test data: \n",
            "precision_score: 0.598291\n",
            "recall_score: 0.666667\n",
            "f1_score: 0.630631\n"
          ]
        }
      ]
    },
    {
      "cell_type": "markdown",
      "source": [
        "##Performance"
      ],
      "metadata": {
        "id": "kjhd1KlGV0Si"
      }
    },
    {
      "cell_type": "markdown",
      "source": [
        "Train data with return rate and sharpe ratio"
      ],
      "metadata": {
        "id": "gKliAKtJ4q8g"
      }
    },
    {
      "cell_type": "code",
      "source": [
        "# train data's performance\n",
        "import numpy as np\n",
        "q = q0\n",
        "y_pred = y_pred0\n",
        "asset = 100000\n",
        "price = 100000\n",
        "asset_change = [asset]\n",
        "price_change = [price]\n",
        "volatility = []\n",
        "risk_free = 0.01/100\n",
        "\n",
        "for i, v in enumerate(y_pred):\n",
        "  if v: asset *= float(1 + q[i])\n",
        "  else: asset *= 1\n",
        "  price *= float(1 + q[i])\n",
        "  volatility.append(float(v*q[i]))\n",
        "  asset_change.append(float(asset))\n",
        "  price_change.append(float(price))\n",
        "\n",
        "std = np.std(np.array(volatility))\n",
        "period = len(y_pred)\n",
        "return_rate = float((asset-100000)/100000/period)\n",
        "price_rate = float((price-100000)/100000/period)\n",
        "print('Train data - \\nWith classifier: ')\n",
        "print(f'獲利: ${int(asset-100000)}')\n",
        "print(f'總報酬率(%): {(asset-100000)/100000*100:.6f}')\n",
        "print(f'年化報酬率(%): {((1+return_rate)**365-1)*100:.6f}')\n",
        "print(f'日平均報酬率(%): {return_rate*100:.6f}')\n",
        "print(f'Sharpe Ratio: {(return_rate-risk_free)/std*(252**0.5):.6f}')\n",
        "print('-'*30)\n",
        "print('Without classifier: ')\n",
        "print(f'總報酬率(%): {(price-100000)/100000*100:.6f}')\n",
        "print(f'年化報酬率(%): {((1+price_rate)**365-1)*100:.6f}')\n",
        "print(f'日平均報酬率(%): {price_rate*100:.6f}')"
      ],
      "metadata": {
        "colab": {
          "base_uri": "https://localhost:8080/"
        },
        "id": "VBd-faCkVyEe",
        "outputId": "7b569d5a-cd24-45c3-eadf-74edf1f1694d"
      },
      "execution_count": 11,
      "outputs": [
        {
          "output_type": "stream",
          "name": "stdout",
          "text": [
            "Train data - \n",
            "With classifier: \n",
            "獲利: $185393\n",
            "總報酬率(%): 185.393440\n",
            "年化報酬率(%): 56.449856\n",
            "日平均報酬率(%): 0.122696\n",
            "Sharpe Ratio: 3.035256\n",
            "------------------------------\n",
            "Without classifier: \n",
            "總報酬率(%): -8.891332\n",
            "年化報酬率(%): -2.124968\n",
            "日平均報酬率(%): -0.005884\n"
          ]
        }
      ]
    },
    {
      "cell_type": "markdown",
      "source": [
        "asset change chart"
      ],
      "metadata": {
        "id": "lU4HQmJkmOcn"
      }
    },
    {
      "cell_type": "code",
      "source": [
        "import matplotlib.pyplot as plt\n",
        "x1 = [i for i in range(len(asset_change))]\n",
        "y1 = asset_change\n",
        "y2 = price_change\n",
        "plt.figure(figsize=(12,6))\n",
        "plt.plot(x1, y1, color='red', ms=1, label='With classifier')\n",
        "plt.plot(x1, y2, color='blue', ms=1, label='Without classifier')\n",
        "plt.legend()\n",
        "plt.show()"
      ],
      "metadata": {
        "colab": {
          "base_uri": "https://localhost:8080/",
          "height": 374
        },
        "id": "6vCO3nK2WMkX",
        "outputId": "916f08c5-ecba-4e61-9bad-5eb39edc15d4"
      },
      "execution_count": 12,
      "outputs": [
        {
          "output_type": "display_data",
          "data": {
            "text/plain": [
              "<Figure size 864x432 with 1 Axes>"
            ],
            "image/png": "[encoded data removed]"
          },
          "metadata": {
            "needs_background": "light"
          }
        }
      ]
    },
    {
      "cell_type": "markdown",
      "source": [
        "Test data with return rate and sharpe ratio"
      ],
      "metadata": {
        "id": "khldPmhy4jFt"
      }
    },
    {
      "cell_type": "code",
      "source": [
        "# test data's performance\n",
        "import numpy as np\n",
        "q = q1\n",
        "y_pred = y_pred1\n",
        "asset = 100000\n",
        "price = 100000\n",
        "asset_change = [asset]\n",
        "price_change = [price]\n",
        "volatility = []\n",
        "risk_free = 0.01/100\n",
        "\n",
        "for i, v in enumerate(y_pred):\n",
        "  if v: asset *= float(1 + q[i])\n",
        "  price *= float(1 + q[i])\n",
        "  volatility.append(float(v*q[i]))\n",
        "  asset_change.append(float(asset))\n",
        "  price_change.append(float(price))\n",
        "\n",
        "std = np.std(np.array(volatility))\n",
        "period = len(y_pred)\n",
        "return_rate = float((asset-100000)/100000/period)\n",
        "price_rate = float((price-100000)/100000/period)\n",
        "print('Test data - \\nWith classifier: ')\n",
        "print(f'獲利: ${int(asset-100000)}')\n",
        "print(f'總報酬率(%): {(asset-100000)/100000*100:.6f}')\n",
        "print(f'年化報酬率(%): {((1+return_rate)**365-1)*100:.6f}')\n",
        "print(f'日平均報酬率(%): {return_rate*100:.6f}')\n",
        "print(f'Sharpe Ratio: {(return_rate-risk_free)/std*(252**0.5):.6f}')\n",
        "print('-'*30)\n",
        "print('Without classifier: ')\n",
        "print(f'總報酬率(%): {(price-100000)/100000*100:.6f}')\n",
        "print(f'年化報酬率(%): {((1+price_rate)**365-1)*100:.6f}')\n",
        "print(f'日平均報酬率(%): {price_rate*100:.6f}')"
      ],
      "metadata": {
        "colab": {
          "base_uri": "https://localhost:8080/"
        },
        "id": "Rpt9KOvh5j1j",
        "outputId": "e6434b9f-695e-42f1-c100-02e0e00140b4"
      },
      "execution_count": 13,
      "outputs": [
        {
          "output_type": "stream",
          "name": "stdout",
          "text": [
            "Test data - \n",
            "With classifier: \n",
            "獲利: $27351\n",
            "總報酬率(%): 27.351226\n",
            "年化報酬率(%): 70.001187\n",
            "日平均報酬率(%): 0.145485\n",
            "Sharpe Ratio: 2.676116\n",
            "------------------------------\n",
            "Without classifier: \n",
            "總報酬率(%): 0.293593\n",
            "年化報酬率(%): 0.571631\n",
            "日平均報酬率(%): 0.001562\n"
          ]
        }
      ]
    },
    {
      "cell_type": "code",
      "source": [
        "import matplotlib.pyplot as plt\n",
        "x1 = [i for i in range(len(asset_change))]\n",
        "y1 = asset_change\n",
        "y2 = price_change\n",
        "plt.figure(figsize=(12,6))\n",
        "plt.plot(x1, y1, color='red', ms=5, label='With classifier')\n",
        "plt.plot(x1, y2, color='blue', ms=5, label='Without classifier')\n",
        "plt.legend()\n",
        "plt.show()"
      ],
      "metadata": {
        "colab": {
          "base_uri": "https://localhost:8080/",
          "height": 374
        },
        "id": "jlwr88x-7O0c",
        "outputId": "e3f622ff-3e23-4fd8-ceb9-69449da8eba3"
      },
      "execution_count": 14,
      "outputs": [
        {
          "output_type": "display_data",
          "data": {
            "text/plain": [
              "<Figure size 864x432 with 1 Axes>"
            ],
            "image/png": "[encoded data removed]"
          },
          "metadata": {
            "needs_background": "light"
          }
        }
      ]
    }
  ]
}